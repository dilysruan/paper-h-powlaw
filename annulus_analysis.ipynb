{
 "cells": [
  {
   "cell_type": "code",
   "execution_count": 20,
   "id": "37c4d61f",
   "metadata": {},
   "outputs": [],
   "source": [
    "import numpy as np\n",
    "import matplotlib.pyplot as plt\n",
    "%matplotlib inline\n",
    "\n",
    "from copy import deepcopy\n",
    "\n",
    "from scipy.interpolate import interp1d\n",
    "from astropy.cosmology import FlatLambdaCDM\n",
    "import statistics as stats\n",
    "from scipy.interpolate import interp1d\n",
    "from scipy.stats import gaussian_kde\n",
    "\n",
    "import semlinlens_v2bRprior as lens\n",
    "import func_get_h_eta as h_eta\n",
    "import func_get_rel_CK as relCK"
   ]
  },
  {
   "cell_type": "code",
   "execution_count": 21,
   "id": "7446ff36",
   "metadata": {},
   "outputs": [],
   "source": [
    "plt.rcParams.update({'font.size': 16, 'text.usetex': False})\n",
    "n_samples = 13"
   ]
  },
  {
   "cell_type": "code",
   "execution_count": null,
   "id": "613fe8ac",
   "metadata": {},
   "outputs": [],
   "source": []
  },
  {
   "cell_type": "code",
   "execution_count": 22,
   "id": "86f1a2f1",
   "metadata": {},
   "outputs": [],
   "source": [
    "dpi_set=400\n",
    "cosmo = FlatLambdaCDM(H0=100,Om0=0.315)\n",
    "folder = './'\n",
    "root = 'mock_'\n",
    "color='blue'\n",
    "kind = 'threshlow'\n",
    "\n",
    "files_dat = []\n",
    "files_txt = []\n",
    "for n in range(0,n_samples):\n",
    "    files_dat.append(folder+root+str(n+1)+'.dat')\n",
    "    files_txt.append(folder+root+str(n+1)+'.txt')"
   ]
  },
  {
   "cell_type": "code",
   "execution_count": 23,
   "id": "9357c298",
   "metadata": {},
   "outputs": [
    {
     "name": "stdout",
     "output_type": "stream",
     "text": [
      "imgpos, drarr, taumat\n"
     ]
    }
   ],
   "source": [
    "# totalmag, peakmag, Rij, tau12, tau13, tau14, tau23, tau24, tau34, time_max, time_min, annulus_length = rel.get_info(files_dat)\n",
    "# print(annulus_length)\n",
    "info = relCK.get_info(files_dat)\n",
    "\n",
    "drarr = info[1]\n",
    "taumat = info[2]\n",
    "ann14 = drarr[:,3] \n",
    "ann13 = drarr[:,2]\n",
    "ann12 = drarr[:,1]\n",
    "tau14 = taumat[:,0,3]\n",
    "tau13 = taumat[:,0,2]\n",
    "tau12 = taumat[:,0,1]\n",
    "annulus_length =  ann12"
   ]
  },
  {
   "cell_type": "code",
   "execution_count": 25,
   "id": "87ace9db",
   "metadata": {},
   "outputs": [
    {
     "name": "stdout",
     "output_type": "stream",
     "text": [
      "median is: 0.2201876655822188\n",
      "cutoff at below: 0.2201876655822188\n",
      "std dev is:0.16599365298036717\n",
      "mean is:0.2427705654335056\n",
      "[False, False, True, True, False, False, True, False, True, False, True, True, False]\n",
      "6\n"
     ]
    },
    {
     "data": {
      "text/plain": [
       "Text(0.5, 0, '$\\\\Delta r_{1,2} / R_E$')"
      ]
     },
     "execution_count": 25,
     "metadata": {},
     "output_type": "execute_result"
    },
    {
     "data": {
      "image/png": "[encoded data removed]",
      "text/plain": [
       "<Figure size 640x480 with 1 Axes>"
      ]
     },
     "metadata": {},
     "output_type": "display_data"
    }
   ],
   "source": [
    "x_flag = ann12\n",
    "flags = []\n",
    "\n",
    "med = stats.median(x_flag)\n",
    "error = (stats.stdev(x_flag))\n",
    "mean = stats.mean(x_flag)\n",
    "\n",
    "thresh = med\n",
    "\n",
    "print('median is: '+str(med))\n",
    "print('cutoff at below: '+str(med))\n",
    "print('std dev is:'+str(error))\n",
    "print('mean is:'+str(mean))\n",
    "\n",
    "if kind == 'all':\n",
    "    flags = [True]*100\n",
    "\n",
    "if kind == 'threshlow':\n",
    "    for n in range(0,len(x_flag)):\n",
    "        if x_flag[n] <= thresh:\n",
    "            flags.append(False)\n",
    "        else:\n",
    "            flags.append(True)\n",
    "print(flags)\n",
    "print(sum(flags))\n",
    "\n",
    "bin_num = 7\n",
    "counts, bins = np.histogram(ann12, density = True)\n",
    "\n",
    "plt.fill_between([-1,thresh], [np.max(counts)+3,np.max(counts)+3], alpha=0.3, hatch='|', color='grey')\n",
    "plt.hist(ann12, density = True, alpha=0.9, color=color, bins=bin_num)\n",
    "plt.xlim([np.min(ann12) - 0.1, np.max(ann12)+0.1])\n",
    "plt.ylim([0, np.max(counts)+1])\n",
    "\n",
    "plt.yticks([])\n",
    "plt.ylabel('probability density function')\n",
    "plt.xlabel('$\\Delta r_{1,2} / R_E$')"
   ]
  },
  {
   "cell_type": "code",
   "execution_count": null,
   "id": "e8f66524",
   "metadata": {},
   "outputs": [],
   "source": []
  },
  {
   "cell_type": "code",
   "execution_count": null,
   "id": "63fbcc46",
   "metadata": {},
   "outputs": [],
   "source": []
  },
  {
   "cell_type": "code",
   "execution_count": null,
   "id": "34f13153",
   "metadata": {},
   "outputs": [],
   "source": []
  },
  {
   "cell_type": "code",
   "execution_count": null,
   "id": "f6a9151f",
   "metadata": {},
   "outputs": [],
   "source": []
  },
  {
   "cell_type": "code",
   "execution_count": null,
   "id": "c9b1d4b3",
   "metadata": {},
   "outputs": [],
   "source": []
  },
  {
   "cell_type": "code",
   "execution_count": null,
   "id": "increased-fairy",
   "metadata": {},
   "outputs": [],
   "source": []
  },
  {
   "cell_type": "code",
   "execution_count": null,
   "id": "a192ac77",
   "metadata": {},
   "outputs": [],
   "source": []
  },
  {
   "cell_type": "code",
   "execution_count": null,
   "id": "7cee098f",
   "metadata": {},
   "outputs": [],
   "source": []
  }
 ],
 "metadata": {
  "kernelspec": {
   "display_name": "Python 3 (ipykernel)",
   "language": "python",
   "name": "python3"
  },
  "language_info": {
   "codemirror_mode": {
    "name": "ipython",
    "version": 3
   },
   "file_extension": ".py",
   "mimetype": "text/x-python",
   "name": "python",
   "nbconvert_exporter": "python",
   "pygments_lexer": "ipython3",
   "version": "3.9.12"
  }
 },
 "nbformat": 4,
 "nbformat_minor": 5
}
